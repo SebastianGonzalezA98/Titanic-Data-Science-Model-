{
 "cells": [
  {
   "cell_type": "markdown",
   "source": [
    "## 1) Beginning the Journey\n",
    "---"
   ],
   "metadata": {}
  },
  {
   "cell_type": "markdown",
   "source": [
    "#### Importing the libraries"
   ],
   "metadata": {}
  },
  {
   "cell_type": "code",
   "execution_count": 1,
   "source": [
    "import numpy as np\r\n",
    "import matplotlib.pyplot as plt\r\n",
    "import pandas as pd\r\n",
    "import seaborn as sns\r\n",
    "\r\n",
    "from sklearn.experimental import enable_iterative_imputer\r\n",
    "from sklearn.impute import IterativeImputer\r\n",
    "from sklearn.impute import SimpleImputer\r\n",
    "#from sklearn.preprocessing import OneHotEncoder\r\n",
    "#from sklearn.preprocessing import StandardScaler\r\n",
    "from sklearn import preprocessing\r\n",
    "from sklearn.model_selection import train_test_split\r\n",
    "from sklearn.metrics import confusion_matrix, accuracy_score\r\n",
    "from sklearn.linear_model import LogisticRegression\r\n",
    "from sklearn.neighbors import KNeighborsClassifier\r\n",
    "from sklearn.svm import SVC\r\n",
    "from sklearn.naive_bayes import GaussianNB\r\n",
    "from sklearn.ensemble import RandomForestClassifier\r\n",
    "from sklearn.tree import DecisionTreeClassifier"
   ],
   "outputs": [],
   "metadata": {}
  },
  {
   "cell_type": "markdown",
   "source": [
    "#### Importing and visualizing the training set"
   ],
   "metadata": {}
  },
  {
   "cell_type": "code",
   "execution_count": 2,
   "source": [
    "def get_info(dataframe = pd.core.frame.DataFrame):\r\n",
    "    print('These are the vairables in your DataFrame: \\n----------------------------------------------------- \\n')\r\n",
    "    \r\n",
    "    # Empty list for 'Numerical' and 'Categorical' variables\r\n",
    "    numerical   = []\r\n",
    "    categorical = []\r\n",
    "    \r\n",
    "    # Print variables, variable type, missing values, and unique values for Categorical variables\r\n",
    "    for column in dataframe.columns:\r\n",
    "        if dataframe[column].dtype in ['int64','float64']:\r\n",
    "            numerical.append(str(column))\r\n",
    "        else:\r\n",
    "            categorical.append(str(column))\r\n",
    "        \r\n",
    "    print(\"Numerical variables in DataFrame: \\n\")\r\n",
    "    [print(\"{} variable has {} missing values.\".format(col,dataframe[col].isna().sum())) for col in numerical]\r\n",
    "    print(\"\\n\")\r\n",
    "    \r\n",
    "    if len(categorical) > 0:\r\n",
    "        print(\"Categorical variables in DataFrame: \\n\")\r\n",
    "        [print(\"{} variable has {} unique values and {} missing values.\"\r\n",
    "           .format(col,dataframe[col].nunique(),dataframe[col].isna().sum())) for col in categorical]\r\n",
    "    else:\r\n",
    "        print(\"There are no Categorical variables in DataFrame\")"
   ],
   "outputs": [],
   "metadata": {}
  },
  {
   "cell_type": "code",
   "execution_count": 3,
   "source": [
    "df_train = pd.read_csv('train.csv')\r\n",
    "# Dataframe to create labels and observe the real information\r\n",
    "x_train_obs = df_train.copy()\r\n",
    "# Dataframe that will contain the training set\r\n",
    "x_train = df_train.copy()\r\n",
    "\r\n",
    "\r\n",
    "# Dataframe that will contain the test set (csv file from kaggle)\r\n",
    "# This datset will have the same transformations applied to x_train in order to predict passenger survival\r\n",
    "x_test = pd.read_csv('test.csv')\r\n",
    "x_test_copy = x_test.copy()"
   ],
   "outputs": [],
   "metadata": {}
  },
  {
   "cell_type": "code",
   "execution_count": 4,
   "source": [
    "x_train_obs.head(3)"
   ],
   "outputs": [
    {
     "output_type": "execute_result",
     "data": {
      "text/html": [
       "<div>\n",
       "<style scoped>\n",
       "    .dataframe tbody tr th:only-of-type {\n",
       "        vertical-align: middle;\n",
       "    }\n",
       "\n",
       "    .dataframe tbody tr th {\n",
       "        vertical-align: top;\n",
       "    }\n",
       "\n",
       "    .dataframe thead th {\n",
       "        text-align: right;\n",
       "    }\n",
       "</style>\n",
       "<table border=\"1\" class=\"dataframe\">\n",
       "  <thead>\n",
       "    <tr style=\"text-align: right;\">\n",
       "      <th></th>\n",
       "      <th>PassengerId</th>\n",
       "      <th>Survived</th>\n",
       "      <th>Pclass</th>\n",
       "      <th>Name</th>\n",
       "      <th>Sex</th>\n",
       "      <th>Age</th>\n",
       "      <th>SibSp</th>\n",
       "      <th>Parch</th>\n",
       "      <th>Ticket</th>\n",
       "      <th>Fare</th>\n",
       "      <th>Cabin</th>\n",
       "      <th>Embarked</th>\n",
       "    </tr>\n",
       "  </thead>\n",
       "  <tbody>\n",
       "    <tr>\n",
       "      <th>0</th>\n",
       "      <td>1</td>\n",
       "      <td>0</td>\n",
       "      <td>3</td>\n",
       "      <td>Braund, Mr. Owen Harris</td>\n",
       "      <td>male</td>\n",
       "      <td>22.0</td>\n",
       "      <td>1</td>\n",
       "      <td>0</td>\n",
       "      <td>A/5 21171</td>\n",
       "      <td>7.2500</td>\n",
       "      <td>NaN</td>\n",
       "      <td>S</td>\n",
       "    </tr>\n",
       "    <tr>\n",
       "      <th>1</th>\n",
       "      <td>2</td>\n",
       "      <td>1</td>\n",
       "      <td>1</td>\n",
       "      <td>Cumings, Mrs. John Bradley (Florence Briggs Th...</td>\n",
       "      <td>female</td>\n",
       "      <td>38.0</td>\n",
       "      <td>1</td>\n",
       "      <td>0</td>\n",
       "      <td>PC 17599</td>\n",
       "      <td>71.2833</td>\n",
       "      <td>C85</td>\n",
       "      <td>C</td>\n",
       "    </tr>\n",
       "    <tr>\n",
       "      <th>2</th>\n",
       "      <td>3</td>\n",
       "      <td>1</td>\n",
       "      <td>3</td>\n",
       "      <td>Heikkinen, Miss. Laina</td>\n",
       "      <td>female</td>\n",
       "      <td>26.0</td>\n",
       "      <td>0</td>\n",
       "      <td>0</td>\n",
       "      <td>STON/O2. 3101282</td>\n",
       "      <td>7.9250</td>\n",
       "      <td>NaN</td>\n",
       "      <td>S</td>\n",
       "    </tr>\n",
       "  </tbody>\n",
       "</table>\n",
       "</div>"
      ],
      "text/plain": [
       "   PassengerId  Survived  Pclass  \\\n",
       "0            1         0       3   \n",
       "1            2         1       1   \n",
       "2            3         1       3   \n",
       "\n",
       "                                                Name     Sex   Age  SibSp  \\\n",
       "0                            Braund, Mr. Owen Harris    male  22.0      1   \n",
       "1  Cumings, Mrs. John Bradley (Florence Briggs Th...  female  38.0      1   \n",
       "2                             Heikkinen, Miss. Laina  female  26.0      0   \n",
       "\n",
       "   Parch            Ticket     Fare Cabin Embarked  \n",
       "0      0         A/5 21171   7.2500   NaN        S  \n",
       "1      0          PC 17599  71.2833   C85        C  \n",
       "2      0  STON/O2. 3101282   7.9250   NaN        S  "
      ]
     },
     "metadata": {},
     "execution_count": 4
    }
   ],
   "metadata": {}
  },
  {
   "cell_type": "code",
   "execution_count": 5,
   "source": [
    "get_info(x_train_obs)"
   ],
   "outputs": [
    {
     "output_type": "stream",
     "name": "stdout",
     "text": [
      "These are the vairables in your DataFrame: \n",
      "----------------------------------------------------- \n",
      "\n",
      "Numerical variables in DataFrame: \n",
      "\n",
      "PassengerId variable has 0 missing values.\n",
      "Survived variable has 0 missing values.\n",
      "Pclass variable has 0 missing values.\n",
      "Age variable has 177 missing values.\n",
      "SibSp variable has 0 missing values.\n",
      "Parch variable has 0 missing values.\n",
      "Fare variable has 0 missing values.\n",
      "\n",
      "\n",
      "Categorical variables in DataFrame: \n",
      "\n",
      "Name variable has 891 unique values and 0 missing values.\n",
      "Sex variable has 2 unique values and 0 missing values.\n",
      "Ticket variable has 681 unique values and 0 missing values.\n",
      "Cabin variable has 147 unique values and 687 missing values.\n",
      "Embarked variable has 3 unique values and 2 missing values.\n"
     ]
    }
   ],
   "metadata": {}
  },
  {
   "cell_type": "code",
   "execution_count": 6,
   "source": [
    "x_train_obs.dtypes"
   ],
   "outputs": [
    {
     "output_type": "execute_result",
     "data": {
      "text/plain": [
       "PassengerId      int64\n",
       "Survived         int64\n",
       "Pclass           int64\n",
       "Name            object\n",
       "Sex             object\n",
       "Age            float64\n",
       "SibSp            int64\n",
       "Parch            int64\n",
       "Ticket          object\n",
       "Fare           float64\n",
       "Cabin           object\n",
       "Embarked        object\n",
       "dtype: object"
      ]
     },
     "metadata": {},
     "execution_count": 6
    }
   ],
   "metadata": {}
  },
  {
   "cell_type": "markdown",
   "source": [
    "#### Variables Age, Cabin, and Embarked have missing values\n",
    "#### From the categorical variables, it seems like  Ticket and Cabin will be dropped due to their high cardinality"
   ],
   "metadata": {}
  },
  {
   "cell_type": "markdown",
   "source": [
    "## 2) Dataset observations and insights\n",
    "---"
   ],
   "metadata": {}
  },
  {
   "cell_type": "code",
   "execution_count": 7,
   "source": [
    "x_train_obs.describe()"
   ],
   "outputs": [
    {
     "output_type": "execute_result",
     "data": {
      "text/html": [
       "<div>\n",
       "<style scoped>\n",
       "    .dataframe tbody tr th:only-of-type {\n",
       "        vertical-align: middle;\n",
       "    }\n",
       "\n",
       "    .dataframe tbody tr th {\n",
       "        vertical-align: top;\n",
       "    }\n",
       "\n",
       "    .dataframe thead th {\n",
       "        text-align: right;\n",
       "    }\n",
       "</style>\n",
       "<table border=\"1\" class=\"dataframe\">\n",
       "  <thead>\n",
       "    <tr style=\"text-align: right;\">\n",
       "      <th></th>\n",
       "      <th>PassengerId</th>\n",
       "      <th>Survived</th>\n",
       "      <th>Pclass</th>\n",
       "      <th>Age</th>\n",
       "      <th>SibSp</th>\n",
       "      <th>Parch</th>\n",
       "      <th>Fare</th>\n",
       "    </tr>\n",
       "  </thead>\n",
       "  <tbody>\n",
       "    <tr>\n",
       "      <th>count</th>\n",
       "      <td>891.000000</td>\n",
       "      <td>891.000000</td>\n",
       "      <td>891.000000</td>\n",
       "      <td>714.000000</td>\n",
       "      <td>891.000000</td>\n",
       "      <td>891.000000</td>\n",
       "      <td>891.000000</td>\n",
       "    </tr>\n",
       "    <tr>\n",
       "      <th>mean</th>\n",
       "      <td>446.000000</td>\n",
       "      <td>0.383838</td>\n",
       "      <td>2.308642</td>\n",
       "      <td>29.699118</td>\n",
       "      <td>0.523008</td>\n",
       "      <td>0.381594</td>\n",
       "      <td>32.204208</td>\n",
       "    </tr>\n",
       "    <tr>\n",
       "      <th>std</th>\n",
       "      <td>257.353842</td>\n",
       "      <td>0.486592</td>\n",
       "      <td>0.836071</td>\n",
       "      <td>14.526497</td>\n",
       "      <td>1.102743</td>\n",
       "      <td>0.806057</td>\n",
       "      <td>49.693429</td>\n",
       "    </tr>\n",
       "    <tr>\n",
       "      <th>min</th>\n",
       "      <td>1.000000</td>\n",
       "      <td>0.000000</td>\n",
       "      <td>1.000000</td>\n",
       "      <td>0.420000</td>\n",
       "      <td>0.000000</td>\n",
       "      <td>0.000000</td>\n",
       "      <td>0.000000</td>\n",
       "    </tr>\n",
       "    <tr>\n",
       "      <th>25%</th>\n",
       "      <td>223.500000</td>\n",
       "      <td>0.000000</td>\n",
       "      <td>2.000000</td>\n",
       "      <td>20.125000</td>\n",
       "      <td>0.000000</td>\n",
       "      <td>0.000000</td>\n",
       "      <td>7.910400</td>\n",
       "    </tr>\n",
       "    <tr>\n",
       "      <th>50%</th>\n",
       "      <td>446.000000</td>\n",
       "      <td>0.000000</td>\n",
       "      <td>3.000000</td>\n",
       "      <td>28.000000</td>\n",
       "      <td>0.000000</td>\n",
       "      <td>0.000000</td>\n",
       "      <td>14.454200</td>\n",
       "    </tr>\n",
       "    <tr>\n",
       "      <th>75%</th>\n",
       "      <td>668.500000</td>\n",
       "      <td>1.000000</td>\n",
       "      <td>3.000000</td>\n",
       "      <td>38.000000</td>\n",
       "      <td>1.000000</td>\n",
       "      <td>0.000000</td>\n",
       "      <td>31.000000</td>\n",
       "    </tr>\n",
       "    <tr>\n",
       "      <th>max</th>\n",
       "      <td>891.000000</td>\n",
       "      <td>1.000000</td>\n",
       "      <td>3.000000</td>\n",
       "      <td>80.000000</td>\n",
       "      <td>8.000000</td>\n",
       "      <td>6.000000</td>\n",
       "      <td>512.329200</td>\n",
       "    </tr>\n",
       "  </tbody>\n",
       "</table>\n",
       "</div>"
      ],
      "text/plain": [
       "       PassengerId    Survived      Pclass         Age       SibSp  \\\n",
       "count   891.000000  891.000000  891.000000  714.000000  891.000000   \n",
       "mean    446.000000    0.383838    2.308642   29.699118    0.523008   \n",
       "std     257.353842    0.486592    0.836071   14.526497    1.102743   \n",
       "min       1.000000    0.000000    1.000000    0.420000    0.000000   \n",
       "25%     223.500000    0.000000    2.000000   20.125000    0.000000   \n",
       "50%     446.000000    0.000000    3.000000   28.000000    0.000000   \n",
       "75%     668.500000    1.000000    3.000000   38.000000    1.000000   \n",
       "max     891.000000    1.000000    3.000000   80.000000    8.000000   \n",
       "\n",
       "            Parch        Fare  \n",
       "count  891.000000  891.000000  \n",
       "mean     0.381594   32.204208  \n",
       "std      0.806057   49.693429  \n",
       "min      0.000000    0.000000  \n",
       "25%      0.000000    7.910400  \n",
       "50%      0.000000   14.454200  \n",
       "75%      0.000000   31.000000  \n",
       "max      6.000000  512.329200  "
      ]
     },
     "metadata": {},
     "execution_count": 7
    }
   ],
   "metadata": {}
  },
  {
   "cell_type": "code",
   "execution_count": 8,
   "source": [
    "# Numerical variables in the dataset\r\n",
    "\r\n",
    "num_obs = x_train_obs.select_dtypes(exclude=['object'])\r\n",
    "sns.set_theme(style=\"dark\", palette=\"pastel\")\r\n",
    "graph_num = num_obs\r\n",
    "\r\n",
    "fig, axs = plt.subplots(2, 2, figsize=(10, 10))\r\n",
    "\r\n",
    "sns.histplot(graph_num, x=\"Age\", hue='Survived', kde=True, color=\"green\", ax=axs[0, 0])\r\n",
    "sns.histplot(graph_num, x=\"SibSp\", hue='Survived', kde=True, color=\"red\", ax=axs[0, 1])\r\n",
    "sns.histplot(graph_num, x=\"Parch\", hue='Survived', kde=True, color=\"purple\", ax=axs[1, 0])\r\n",
    "sns.histplot(graph_num, x=\"Fare\", hue='Survived', kde=True,color=\"olive\", ax=axs[1, 1])\r\n",
    "\r\n",
    "plt.show()"
   ],
   "outputs": [
    {
     "output_type": "display_data",
     "data": {
      "image/png": "[encoded data removed]",
      "text/plain": [
       "<Figure size 720x720 with 4 Axes>"
      ]
     },
     "metadata": {}
    }
   ],
   "metadata": {}
  },
  {
   "cell_type": "code",
   "execution_count": 9,
   "source": [
    "# Categorical variables\r\n",
    "\r\n",
    "cat_obs = x_train_obs[['Survived','Pclass','Sex','Ticket','Cabin','Embarked']]"
   ],
   "outputs": [],
   "metadata": {}
  },
  {
   "cell_type": "code",
   "execution_count": 10,
   "source": [
    "sns.set_theme(style=\"dark\", palette=\"muted\")\r\n",
    "graph_cat = cat_obs\r\n",
    "\r\n",
    "fig, axs = plt.subplots(2, 3, figsize=(15, 15))\r\n",
    "\r\n",
    "sns.countplot(x='Survived', data=graph_cat, ax=axs[0,0]) #x='Survived',data =y, ax=axs[0,0]\r\n",
    "sns.countplot(x=\"Pclass\", data=graph_cat,ax=axs[0, 1])\r\n",
    "sns.countplot(x=\"Sex\", data=graph_cat, ax=axs[1, 0])\r\n",
    "sns.countplot(x=\"Ticket\", data=graph_cat, ax=axs[1, 1])\r\n",
    "sns.countplot(x=\"Cabin\", data=graph_cat, ax=axs[0, 2])\r\n",
    "sns.countplot(x=\"Embarked\", data=graph_cat, ax=axs[1, 2])\r\n",
    "\r\n",
    "plt.show()"
   ],
   "outputs": [
    {
     "output_type": "display_data",
     "data": {
      "image/png": "[encoded data removed]",
      "text/plain": [
       "<Figure size 1080x1080 with 6 Axes>"
      ]
     },
     "metadata": {}
    }
   ],
   "metadata": {}
  },
  {
   "cell_type": "markdown",
   "source": [
    "#### Survived variable:"
   ],
   "metadata": {}
  },
  {
   "cell_type": "code",
   "execution_count": 11,
   "source": [
    "print(\"{} passengers survived, and {} didn't\".format(((x_train_obs['Survived']==1).sum()),((x_train_obs['Survived']==0).sum())))"
   ],
   "outputs": [
    {
     "output_type": "stream",
     "name": "stdout",
     "text": [
      "342 passengers survived, and 549 didn't\n"
     ]
    }
   ],
   "metadata": {}
  },
  {
   "cell_type": "markdown",
   "source": [
    "#### Age variable:"
   ],
   "metadata": {}
  },
  {
   "cell_type": "code",
   "execution_count": 12,
   "source": [
    "# According to 'https://help.healthycities.org/hc/en-us/articles/219556208-How-are-the-different-age-groups-defined-':\r\n",
    "# Infants are younger than 1 year\r\n",
    "# Children are between 1 and 11 years\r\n",
    "# Teens are between 12 and 17 years\r\n",
    "# Adults are between 18 and 64 years\r\n",
    "# Older adults are older than 65 years\r\n",
    "\r\n",
    "def age_label(row):\r\n",
    "    if row['Age']<1:\r\n",
    "        return 'Infant'\r\n",
    "    elif row['Age']>=1 and row['Age']<=11:\r\n",
    "        return 'Children'\r\n",
    "    elif row['Age']>=12 and row['Age']<=17:\r\n",
    "        return 'Teen'\r\n",
    "    elif row['Age']>=18 and row['Age']<=64:\r\n",
    "        return 'Adult'\r\n",
    "    elif row['Age']>=65:\r\n",
    "        return 'Older Adult'\r\n",
    "    else:\r\n",
    "        return 'Unknown'"
   ],
   "outputs": [],
   "metadata": {}
  },
  {
   "cell_type": "code",
   "execution_count": 13,
   "source": [
    "x_train_obs['Age_Class'] = x_train_obs.apply(lambda row: age_label(row), axis=1)"
   ],
   "outputs": [],
   "metadata": {}
  },
  {
   "cell_type": "code",
   "execution_count": 14,
   "source": [
    "x_train_obs.groupby(['Age_Class']).sum()['Survived']"
   ],
   "outputs": [
    {
     "output_type": "execute_result",
     "data": {
      "text/plain": [
       "Age_Class\n",
       "Adult          228\n",
       "Children        32\n",
       "Infant           7\n",
       "Older Adult      1\n",
       "Teen            22\n",
       "Unknown         52\n",
       "Name: Survived, dtype: int64"
      ]
     },
     "metadata": {},
     "execution_count": 14
    }
   ],
   "metadata": {}
  },
  {
   "cell_type": "code",
   "execution_count": 15,
   "source": [
    "sns.barplot(x='Age_Class',y='Survived',data=x_train_obs)\r\n",
    "plt.ylabel(\"Survival Probability\")\r\n",
    "plt.title(\"Survival between the different age groups\")\r\n",
    "plt.show()"
   ],
   "outputs": [
    {
     "output_type": "display_data",
     "data": {
      "image/png": "[encoded data removed]",
      "text/plain": [
       "<Figure size 432x288 with 1 Axes>"
      ]
     },
     "metadata": {}
    }
   ],
   "metadata": {}
  },
  {
   "cell_type": "markdown",
   "source": [
    "#### SibSp and Parch variables are just relatives aboard, so I will combine them together\n",
    "#### Relatives variable:"
   ],
   "metadata": {}
  },
  {
   "cell_type": "code",
   "execution_count": 16,
   "source": [
    "def relative(row):\r\n",
    "    return row['SibSp'] + row['Parch']"
   ],
   "outputs": [],
   "metadata": {}
  },
  {
   "cell_type": "code",
   "execution_count": 17,
   "source": [
    "x_train_obs['Relatives'] = x_train_obs.apply(lambda row: relative(row), axis=1)\r\n",
    "x_train['Relatives'] = x_train.apply(lambda row: relative(row), axis=1)\r\n",
    "x_test['Relatives'] = x_test.apply(lambda row: relative(row), axis=1)"
   ],
   "outputs": [],
   "metadata": {}
  },
  {
   "cell_type": "code",
   "execution_count": 18,
   "source": [
    "sns.barplot(x='Relatives', y='Survived', data=x_train_obs)\r\n",
    "plt.ylabel(\"Survival Probability\")\r\n",
    "plt.title(\"Survival by number of relatives aboard\")\r\n",
    "plt.show()"
   ],
   "outputs": [
    {
     "output_type": "display_data",
     "data": {
      "image/png": "[encoded data removed]",
      "text/plain": [
       "<Figure size 432x288 with 1 Axes>"
      ]
     },
     "metadata": {}
    }
   ],
   "metadata": {}
  },
  {
   "cell_type": "markdown",
   "source": [
    "#### Fare variable:"
   ],
   "metadata": {}
  },
  {
   "cell_type": "code",
   "execution_count": 19,
   "source": [
    "x_train_obs['Fare'].describe()"
   ],
   "outputs": [
    {
     "output_type": "execute_result",
     "data": {
      "text/plain": [
       "count    891.000000\n",
       "mean      32.204208\n",
       "std       49.693429\n",
       "min        0.000000\n",
       "25%        7.910400\n",
       "50%       14.454200\n",
       "75%       31.000000\n",
       "max      512.329200\n",
       "Name: Fare, dtype: float64"
      ]
     },
     "metadata": {},
     "execution_count": 19
    }
   ],
   "metadata": {}
  },
  {
   "cell_type": "code",
   "execution_count": 20,
   "source": [
    "q1 = x_train_obs['Fare'].quantile(q=0.25)\r\n",
    "q2 = x_train_obs['Fare'].quantile(q=0.50)\r\n",
    "q3 = x_train_obs['Fare'].quantile(q=0.75)"
   ],
   "outputs": [],
   "metadata": {}
  },
  {
   "cell_type": "code",
   "execution_count": 21,
   "source": [
    "# Survival probability of Fare based on quantiles\r\n",
    "\r\n",
    "def fare_label(row):\r\n",
    "    if row['Fare']<=q1:\r\n",
    "        return '1 - 25%'\r\n",
    "    elif (row['Fare']>q1) & (row['Fare']<=q2):\r\n",
    "        return '25.1 - 50%'\r\n",
    "    elif (row['Fare']>q2) & (row['Fare']<=q3):\r\n",
    "        return '50.1 - 75%'\r\n",
    "    else:\r\n",
    "        return '75.1 - 100%'"
   ],
   "outputs": [],
   "metadata": {}
  },
  {
   "cell_type": "code",
   "execution_count": 22,
   "source": [
    "x_train_obs['Fare_Label'] = x_train_obs.apply(lambda row: fare_label(row), axis=1)"
   ],
   "outputs": [],
   "metadata": {}
  },
  {
   "cell_type": "code",
   "execution_count": 23,
   "source": [
    "x_train_obs.head()"
   ],
   "outputs": [
    {
     "output_type": "execute_result",
     "data": {
      "text/html": [
       "<div>\n",
       "<style scoped>\n",
       "    .dataframe tbody tr th:only-of-type {\n",
       "        vertical-align: middle;\n",
       "    }\n",
       "\n",
       "    .dataframe tbody tr th {\n",
       "        vertical-align: top;\n",
       "    }\n",
       "\n",
       "    .dataframe thead th {\n",
       "        text-align: right;\n",
       "    }\n",
       "</style>\n",
       "<table border=\"1\" class=\"dataframe\">\n",
       "  <thead>\n",
       "    <tr style=\"text-align: right;\">\n",
       "      <th></th>\n",
       "      <th>PassengerId</th>\n",
       "      <th>Survived</th>\n",
       "      <th>Pclass</th>\n",
       "      <th>Name</th>\n",
       "      <th>Sex</th>\n",
       "      <th>Age</th>\n",
       "      <th>SibSp</th>\n",
       "      <th>Parch</th>\n",
       "      <th>Ticket</th>\n",
       "      <th>Fare</th>\n",
       "      <th>Cabin</th>\n",
       "      <th>Embarked</th>\n",
       "      <th>Age_Class</th>\n",
       "      <th>Relatives</th>\n",
       "      <th>Fare_Label</th>\n",
       "    </tr>\n",
       "  </thead>\n",
       "  <tbody>\n",
       "    <tr>\n",
       "      <th>0</th>\n",
       "      <td>1</td>\n",
       "      <td>0</td>\n",
       "      <td>3</td>\n",
       "      <td>Braund, Mr. Owen Harris</td>\n",
       "      <td>male</td>\n",
       "      <td>22.0</td>\n",
       "      <td>1</td>\n",
       "      <td>0</td>\n",
       "      <td>A/5 21171</td>\n",
       "      <td>7.2500</td>\n",
       "      <td>NaN</td>\n",
       "      <td>S</td>\n",
       "      <td>Adult</td>\n",
       "      <td>1</td>\n",
       "      <td>1 - 25%</td>\n",
       "    </tr>\n",
       "    <tr>\n",
       "      <th>1</th>\n",
       "      <td>2</td>\n",
       "      <td>1</td>\n",
       "      <td>1</td>\n",
       "      <td>Cumings, Mrs. John Bradley (Florence Briggs Th...</td>\n",
       "      <td>female</td>\n",
       "      <td>38.0</td>\n",
       "      <td>1</td>\n",
       "      <td>0</td>\n",
       "      <td>PC 17599</td>\n",
       "      <td>71.2833</td>\n",
       "      <td>C85</td>\n",
       "      <td>C</td>\n",
       "      <td>Adult</td>\n",
       "      <td>1</td>\n",
       "      <td>75.1 - 100%</td>\n",
       "    </tr>\n",
       "    <tr>\n",
       "      <th>2</th>\n",
       "      <td>3</td>\n",
       "      <td>1</td>\n",
       "      <td>3</td>\n",
       "      <td>Heikkinen, Miss. Laina</td>\n",
       "      <td>female</td>\n",
       "      <td>26.0</td>\n",
       "      <td>0</td>\n",
       "      <td>0</td>\n",
       "      <td>STON/O2. 3101282</td>\n",
       "      <td>7.9250</td>\n",
       "      <td>NaN</td>\n",
       "      <td>S</td>\n",
       "      <td>Adult</td>\n",
       "      <td>0</td>\n",
       "      <td>25.1 - 50%</td>\n",
       "    </tr>\n",
       "    <tr>\n",
       "      <th>3</th>\n",
       "      <td>4</td>\n",
       "      <td>1</td>\n",
       "      <td>1</td>\n",
       "      <td>Futrelle, Mrs. Jacques Heath (Lily May Peel)</td>\n",
       "      <td>female</td>\n",
       "      <td>35.0</td>\n",
       "      <td>1</td>\n",
       "      <td>0</td>\n",
       "      <td>113803</td>\n",
       "      <td>53.1000</td>\n",
       "      <td>C123</td>\n",
       "      <td>S</td>\n",
       "      <td>Adult</td>\n",
       "      <td>1</td>\n",
       "      <td>75.1 - 100%</td>\n",
       "    </tr>\n",
       "    <tr>\n",
       "      <th>4</th>\n",
       "      <td>5</td>\n",
       "      <td>0</td>\n",
       "      <td>3</td>\n",
       "      <td>Allen, Mr. William Henry</td>\n",
       "      <td>male</td>\n",
       "      <td>35.0</td>\n",
       "      <td>0</td>\n",
       "      <td>0</td>\n",
       "      <td>373450</td>\n",
       "      <td>8.0500</td>\n",
       "      <td>NaN</td>\n",
       "      <td>S</td>\n",
       "      <td>Adult</td>\n",
       "      <td>0</td>\n",
       "      <td>25.1 - 50%</td>\n",
       "    </tr>\n",
       "  </tbody>\n",
       "</table>\n",
       "</div>"
      ],
      "text/plain": [
       "   PassengerId  Survived  Pclass  \\\n",
       "0            1         0       3   \n",
       "1            2         1       1   \n",
       "2            3         1       3   \n",
       "3            4         1       1   \n",
       "4            5         0       3   \n",
       "\n",
       "                                                Name     Sex   Age  SibSp  \\\n",
       "0                            Braund, Mr. Owen Harris    male  22.0      1   \n",
       "1  Cumings, Mrs. John Bradley (Florence Briggs Th...  female  38.0      1   \n",
       "2                             Heikkinen, Miss. Laina  female  26.0      0   \n",
       "3       Futrelle, Mrs. Jacques Heath (Lily May Peel)  female  35.0      1   \n",
       "4                           Allen, Mr. William Henry    male  35.0      0   \n",
       "\n",
       "   Parch            Ticket     Fare Cabin Embarked Age_Class  Relatives  \\\n",
       "0      0         A/5 21171   7.2500   NaN        S     Adult          1   \n",
       "1      0          PC 17599  71.2833   C85        C     Adult          1   \n",
       "2      0  STON/O2. 3101282   7.9250   NaN        S     Adult          0   \n",
       "3      0            113803  53.1000  C123        S     Adult          1   \n",
       "4      0            373450   8.0500   NaN        S     Adult          0   \n",
       "\n",
       "    Fare_Label  \n",
       "0      1 - 25%  \n",
       "1  75.1 - 100%  \n",
       "2   25.1 - 50%  \n",
       "3  75.1 - 100%  \n",
       "4   25.1 - 50%  "
      ]
     },
     "metadata": {},
     "execution_count": 23
    }
   ],
   "metadata": {}
  },
  {
   "cell_type": "code",
   "execution_count": 24,
   "source": [
    "sns.barplot(x='Fare_Label', y='Survived', data=x_train_obs)\r\n",
    "plt.ylabel('Survival Probability')\r\n",
    "plt.title('Survival by fair paid (quantiles)')\r\n",
    "plt.show()"
   ],
   "outputs": [
    {
     "output_type": "display_data",
     "data": {
      "image/png": "[encoded data removed]",
      "text/plain": [
       "<Figure size 432x288 with 1 Axes>"
      ]
     },
     "metadata": {}
    }
   ],
   "metadata": {}
  },
  {
   "cell_type": "markdown",
   "source": [
    "#### Pclass variable:"
   ],
   "metadata": {}
  },
  {
   "cell_type": "code",
   "execution_count": 25,
   "source": [
    "sns.barplot(x='Pclass', y='Survived', data=x_train_obs)\r\n",
    "plt.ylabel('Survival Probability')\r\n",
    "plt.title('Survival by passenger class')\r\n",
    "plt.show()"
   ],
   "outputs": [
    {
     "output_type": "display_data",
     "data": {
      "image/png": "[encoded data removed]",
      "text/plain": [
       "<Figure size 432x288 with 1 Axes>"
      ]
     },
     "metadata": {}
    }
   ],
   "metadata": {}
  },
  {
   "cell_type": "markdown",
   "source": [
    "#### Sex variable:"
   ],
   "metadata": {}
  },
  {
   "cell_type": "code",
   "execution_count": 26,
   "source": [
    "sns.barplot(x='Sex', y='Survived', data=x_train_obs)\r\n",
    "plt.ylabel('Survival Probability')\r\n",
    "plt.title('Survival between males and females')\r\n",
    "plt.show()"
   ],
   "outputs": [
    {
     "output_type": "display_data",
     "data": {
      "image/png": "[encoded data removed]",
      "text/plain": [
       "<Figure size 432x288 with 1 Axes>"
      ]
     },
     "metadata": {}
    }
   ],
   "metadata": {}
  },
  {
   "cell_type": "code",
   "execution_count": 27,
   "source": [
    "# Total male and female passengers\r\n",
    "survival_by_sex_total = x_train_obs['Sex'].value_counts()\r\n",
    "# Total male and female passengers that survived\r\n",
    "survival_by_sex = x_train_obs.groupby('Sex').sum()['Survived']\r\n",
    "# Survival probability\r\n",
    "survival_by_sex_percentage = (survival_by_sex/survival_by_sex_total)\r\n",
    "survival_by_sex_percentage"
   ],
   "outputs": [
    {
     "output_type": "execute_result",
     "data": {
      "text/plain": [
       "female    0.742038\n",
       "male      0.188908\n",
       "dtype: float64"
      ]
     },
     "metadata": {},
     "execution_count": 27
    }
   ],
   "metadata": {}
  },
  {
   "cell_type": "markdown",
   "source": [
    "#### Embarked variable:"
   ],
   "metadata": {}
  },
  {
   "cell_type": "code",
   "execution_count": 28,
   "source": [
    "sns.barplot(x='Embarked', y='Survived', data=x_train_obs)\r\n",
    "plt.ylabel('Survival Probability')\r\n",
    "plt.title('Survival between different embarkation ports')\r\n",
    "plt.show()"
   ],
   "outputs": [
    {
     "output_type": "display_data",
     "data": {
      "image/png": "[encoded data removed]",
      "text/plain": [
       "<Figure size 432x288 with 1 Axes>"
      ]
     },
     "metadata": {}
    }
   ],
   "metadata": {}
  },
  {
   "cell_type": "markdown",
   "source": [
    "#### As mentioned before, variables ticket and cabin have way too many unique values, so they will be dropped eventually"
   ],
   "metadata": {}
  },
  {
   "cell_type": "markdown",
   "source": [
    "#### Name variable:"
   ],
   "metadata": {}
  },
  {
   "cell_type": "code",
   "execution_count": 29,
   "source": [
    "# What are some common honorifics in the passenger names?\r\n",
    "\r\n",
    "#x_train_obs['Name'].values"
   ],
   "outputs": [],
   "metadata": {}
  },
  {
   "cell_type": "code",
   "execution_count": 30,
   "source": [
    "# Mr, Mrs, Miss, and Master seem to be the most frequent.\r\n",
    "# What other honorifics make part of the names?\r\n",
    "\r\n",
    "for name in x_train_obs['Name'].values:\r\n",
    "    if 'Mr.' in name:\r\n",
    "        pass\r\n",
    "    elif 'Mrs.' in name:\r\n",
    "        pass\r\n",
    "    elif 'Miss' in name:\r\n",
    "        pass\r\n",
    "    elif 'Master' in name:\r\n",
    "        pass\r\n",
    "    else:\r\n",
    "        print(name)"
   ],
   "outputs": [
    {
     "output_type": "stream",
     "name": "stdout",
     "text": [
      "Uruchurtu, Don. Manuel E\n",
      "Byles, Rev. Thomas Roussel Davids\n",
      "Bateman, Rev. Robert James\n",
      "Minahan, Dr. William Edward\n",
      "Carter, Rev. Ernest Courtenay\n",
      "Moraweck, Dr. Ernest\n",
      "Aubart, Mme. Leontine Pauline\n",
      "Pain, Dr. Alfred\n",
      "Reynaldo, Ms. Encarnacion\n",
      "Peuchen, Major. Arthur Godfrey\n",
      "Butt, Major. Archibald Willingham\n",
      "Duff Gordon, Lady. (Lucille Christiana Sutherland) (\"Mrs Morgan\")\n",
      "Duff Gordon, Sir. Cosmo Edmund (\"Mr Morgan\")\n",
      "Kirkland, Rev. Charles Leonard\n",
      "Stahelin-Maeglin, Dr. Max\n",
      "Sagesser, Mlle. Emma\n",
      "Simonius-Blumer, Col. Oberst Alfons\n",
      "Frauenthal, Dr. Henry William\n",
      "Weir, Col. John\n",
      "Mayne, Mlle. Berthe Antonine (\"Mrs de Villiers\")\n",
      "Crosby, Capt. Edward Gifford\n",
      "Rothes, the Countess. of (Lucy Noel Martha Dyer-Edwards)\n",
      "Brewe, Dr. Arthur Jackson\n",
      "Leader, Dr. Alice (Farnham)\n",
      "Reuchlin, Jonkheer. John George\n",
      "Harper, Rev. John\n",
      "Montvila, Rev. Juozas\n"
     ]
    }
   ],
   "metadata": {}
  },
  {
   "cell_type": "markdown",
   "source": [
    "#### Other not so common honorifics are:\n",
    "#### Don, Rev, Dr, Mme, Ms, Major, Lady, Sir, Col, Cpt and Jonkheer. All of these correspond to adults\n",
    "#### The only problem seems to be that even though there are honorifics for underage males and adult males ('Master' and 'Mr' for example), the case is not the same for underage females and adult females. 'Mrs.' are indeed adult females but 'Miss' takes both underage and adult females, which could cause issues. For this reason, 'Mrs' will be labeled as adult but 'Miss' will be labeled as other."
   ],
   "metadata": {}
  },
  {
   "cell_type": "code",
   "execution_count": 31,
   "source": [
    "# Creating name label function based on the name honorific\r\n",
    "def name_age(row):\r\n",
    "    if 'Mr.' in row['Name']:\r\n",
    "        return 'Adult'\r\n",
    "    if 'Mrs.' in row['Name']:\r\n",
    "        return 'Adult'\r\n",
    "    if 'Don.' in row['Name']:\r\n",
    "        return 'Adult'\r\n",
    "    if 'Rev.' in row['Name']:\r\n",
    "        return 'Adult'\r\n",
    "    if 'Dr.' in row['Name']:\r\n",
    "        return 'Adult'\r\n",
    "    if 'Mme.' in row['Name']:\r\n",
    "        return 'Adult'\r\n",
    "    if 'Mlle.' in row['Name']:\r\n",
    "        return 'Adult'\r\n",
    "    if 'Ms.' in row['Name']:\r\n",
    "        return 'Adult'\r\n",
    "    if 'Lady.' in row['Name']:\r\n",
    "        return 'Adult'\r\n",
    "    if 'Sir.' in row['Name']:\r\n",
    "        return 'Adult'\r\n",
    "    if 'Major.' in row['Name']:\r\n",
    "        return 'Adult'\r\n",
    "    if 'Col.' in row['Name']:\r\n",
    "        return 'Adult'\r\n",
    "    if 'Capt.' in row['Name']:\r\n",
    "        return 'Adult'\r\n",
    "    if 'Countess.' in row['Name']:\r\n",
    "        return 'Adult'\r\n",
    "    if 'Jonkheer.' in row['Name']:\r\n",
    "        return 'Adult'\r\n",
    "    if 'Master.' in row['Name']:\r\n",
    "        return 'Child'\r\n",
    "    if 'Miss.' in row['Name']:\r\n",
    "        return 'Other'\r\n",
    "    else:\r\n",
    "        return 'Other'"
   ],
   "outputs": [],
   "metadata": {}
  },
  {
   "cell_type": "code",
   "execution_count": 32,
   "source": [
    "x_train_obs['Name_Label'] = x_train_obs.apply(lambda row: name_age(row), axis=1)\r\n",
    "x_train['Name_Label'] = x_train.apply(lambda row: name_age(row), axis=1)\r\n",
    "x_test['Name_Label'] = x_test.apply(lambda row: name_age(row), axis=1)"
   ],
   "outputs": [],
   "metadata": {}
  },
  {
   "cell_type": "code",
   "execution_count": 33,
   "source": [
    "x_train_obs.head()"
   ],
   "outputs": [
    {
     "output_type": "execute_result",
     "data": {
      "text/html": [
       "<div>\n",
       "<style scoped>\n",
       "    .dataframe tbody tr th:only-of-type {\n",
       "        vertical-align: middle;\n",
       "    }\n",
       "\n",
       "    .dataframe tbody tr th {\n",
       "        vertical-align: top;\n",
       "    }\n",
       "\n",
       "    .dataframe thead th {\n",
       "        text-align: right;\n",
       "    }\n",
       "</style>\n",
       "<table border=\"1\" class=\"dataframe\">\n",
       "  <thead>\n",
       "    <tr style=\"text-align: right;\">\n",
       "      <th></th>\n",
       "      <th>PassengerId</th>\n",
       "      <th>Survived</th>\n",
       "      <th>Pclass</th>\n",
       "      <th>Name</th>\n",
       "      <th>Sex</th>\n",
       "      <th>Age</th>\n",
       "      <th>SibSp</th>\n",
       "      <th>Parch</th>\n",
       "      <th>Ticket</th>\n",
       "      <th>Fare</th>\n",
       "      <th>Cabin</th>\n",
       "      <th>Embarked</th>\n",
       "      <th>Age_Class</th>\n",
       "      <th>Relatives</th>\n",
       "      <th>Fare_Label</th>\n",
       "      <th>Name_Label</th>\n",
       "    </tr>\n",
       "  </thead>\n",
       "  <tbody>\n",
       "    <tr>\n",
       "      <th>0</th>\n",
       "      <td>1</td>\n",
       "      <td>0</td>\n",
       "      <td>3</td>\n",
       "      <td>Braund, Mr. Owen Harris</td>\n",
       "      <td>male</td>\n",
       "      <td>22.0</td>\n",
       "      <td>1</td>\n",
       "      <td>0</td>\n",
       "      <td>A/5 21171</td>\n",
       "      <td>7.2500</td>\n",
       "      <td>NaN</td>\n",
       "      <td>S</td>\n",
       "      <td>Adult</td>\n",
       "      <td>1</td>\n",
       "      <td>1 - 25%</td>\n",
       "      <td>Adult</td>\n",
       "    </tr>\n",
       "    <tr>\n",
       "      <th>1</th>\n",
       "      <td>2</td>\n",
       "      <td>1</td>\n",
       "      <td>1</td>\n",
       "      <td>Cumings, Mrs. John Bradley (Florence Briggs Th...</td>\n",
       "      <td>female</td>\n",
       "      <td>38.0</td>\n",
       "      <td>1</td>\n",
       "      <td>0</td>\n",
       "      <td>PC 17599</td>\n",
       "      <td>71.2833</td>\n",
       "      <td>C85</td>\n",
       "      <td>C</td>\n",
       "      <td>Adult</td>\n",
       "      <td>1</td>\n",
       "      <td>75.1 - 100%</td>\n",
       "      <td>Adult</td>\n",
       "    </tr>\n",
       "    <tr>\n",
       "      <th>2</th>\n",
       "      <td>3</td>\n",
       "      <td>1</td>\n",
       "      <td>3</td>\n",
       "      <td>Heikkinen, Miss. Laina</td>\n",
       "      <td>female</td>\n",
       "      <td>26.0</td>\n",
       "      <td>0</td>\n",
       "      <td>0</td>\n",
       "      <td>STON/O2. 3101282</td>\n",
       "      <td>7.9250</td>\n",
       "      <td>NaN</td>\n",
       "      <td>S</td>\n",
       "      <td>Adult</td>\n",
       "      <td>0</td>\n",
       "      <td>25.1 - 50%</td>\n",
       "      <td>Other</td>\n",
       "    </tr>\n",
       "    <tr>\n",
       "      <th>3</th>\n",
       "      <td>4</td>\n",
       "      <td>1</td>\n",
       "      <td>1</td>\n",
       "      <td>Futrelle, Mrs. Jacques Heath (Lily May Peel)</td>\n",
       "      <td>female</td>\n",
       "      <td>35.0</td>\n",
       "      <td>1</td>\n",
       "      <td>0</td>\n",
       "      <td>113803</td>\n",
       "      <td>53.1000</td>\n",
       "      <td>C123</td>\n",
       "      <td>S</td>\n",
       "      <td>Adult</td>\n",
       "      <td>1</td>\n",
       "      <td>75.1 - 100%</td>\n",
       "      <td>Adult</td>\n",
       "    </tr>\n",
       "    <tr>\n",
       "      <th>4</th>\n",
       "      <td>5</td>\n",
       "      <td>0</td>\n",
       "      <td>3</td>\n",
       "      <td>Allen, Mr. William Henry</td>\n",
       "      <td>male</td>\n",
       "      <td>35.0</td>\n",
       "      <td>0</td>\n",
       "      <td>0</td>\n",
       "      <td>373450</td>\n",
       "      <td>8.0500</td>\n",
       "      <td>NaN</td>\n",
       "      <td>S</td>\n",
       "      <td>Adult</td>\n",
       "      <td>0</td>\n",
       "      <td>25.1 - 50%</td>\n",
       "      <td>Adult</td>\n",
       "    </tr>\n",
       "  </tbody>\n",
       "</table>\n",
       "</div>"
      ],
      "text/plain": [
       "   PassengerId  Survived  Pclass  \\\n",
       "0            1         0       3   \n",
       "1            2         1       1   \n",
       "2            3         1       3   \n",
       "3            4         1       1   \n",
       "4            5         0       3   \n",
       "\n",
       "                                                Name     Sex   Age  SibSp  \\\n",
       "0                            Braund, Mr. Owen Harris    male  22.0      1   \n",
       "1  Cumings, Mrs. John Bradley (Florence Briggs Th...  female  38.0      1   \n",
       "2                             Heikkinen, Miss. Laina  female  26.0      0   \n",
       "3       Futrelle, Mrs. Jacques Heath (Lily May Peel)  female  35.0      1   \n",
       "4                           Allen, Mr. William Henry    male  35.0      0   \n",
       "\n",
       "   Parch            Ticket     Fare Cabin Embarked Age_Class  Relatives  \\\n",
       "0      0         A/5 21171   7.2500   NaN        S     Adult          1   \n",
       "1      0          PC 17599  71.2833   C85        C     Adult          1   \n",
       "2      0  STON/O2. 3101282   7.9250   NaN        S     Adult          0   \n",
       "3      0            113803  53.1000  C123        S     Adult          1   \n",
       "4      0            373450   8.0500   NaN        S     Adult          0   \n",
       "\n",
       "    Fare_Label Name_Label  \n",
       "0      1 - 25%      Adult  \n",
       "1  75.1 - 100%      Adult  \n",
       "2   25.1 - 50%      Other  \n",
       "3  75.1 - 100%      Adult  \n",
       "4   25.1 - 50%      Adult  "
      ]
     },
     "metadata": {},
     "execution_count": 33
    }
   ],
   "metadata": {}
  },
  {
   "cell_type": "code",
   "execution_count": 34,
   "source": [
    "sns.barplot(x='Name_Label', y='Survived', data=x_train_obs)\r\n",
    "plt.ylabel('Survival rate')\r\n",
    "plt.title('Survival between different name labels')\r\n",
    "plt.show()"
   ],
   "outputs": [
    {
     "output_type": "display_data",
     "data": {
      "image/png": "[encoded data removed]",
      "text/plain": [
       "<Figure size 432x288 with 1 Axes>"
      ]
     },
     "metadata": {}
    }
   ],
   "metadata": {}
  },
  {
   "cell_type": "markdown",
   "source": [
    "#### As we can see, this graph depicts survival among ages and sex combined. Females (Other) survive more and children as well; most of the passengers in Adult are males"
   ],
   "metadata": {}
  },
  {
   "cell_type": "code",
   "execution_count": 35,
   "source": [
    "sns.barplot(x='Name_Label', y='Survived', data=x_train_obs, hue='Sex')\r\n",
    "plt.ylabel('Survival rate')\r\n",
    "plt.title('Survival between different name labels by sex')\r\n",
    "plt.show()"
   ],
   "outputs": [
    {
     "output_type": "display_data",
     "data": {
      "image/png": "[encoded data removed]",
      "text/plain": [
       "<Figure size 432x288 with 1 Axes>"
      ]
     },
     "metadata": {}
    }
   ],
   "metadata": {}
  },
  {
   "cell_type": "code",
   "execution_count": 36,
   "source": [
    "x_train_obs.columns"
   ],
   "outputs": [
    {
     "output_type": "execute_result",
     "data": {
      "text/plain": [
       "Index(['PassengerId', 'Survived', 'Pclass', 'Name', 'Sex', 'Age', 'SibSp',\n",
       "       'Parch', 'Ticket', 'Fare', 'Cabin', 'Embarked', 'Age_Class',\n",
       "       'Relatives', 'Fare_Label', 'Name_Label'],\n",
       "      dtype='object')"
      ]
     },
     "metadata": {},
     "execution_count": 36
    }
   ],
   "metadata": {}
  },
  {
   "cell_type": "code",
   "execution_count": 37,
   "source": [
    "# Correlations matrix of the variables that will be used\r\n",
    "print(x_train_obs[['Pclass','Age','Relatives','Fare']].corr())\r\n",
    "sns.heatmap(x_train_obs[['Pclass','Age','Relatives','Fare']].corr())"
   ],
   "outputs": [
    {
     "output_type": "stream",
     "name": "stdout",
     "text": [
      "             Pclass       Age  Relatives      Fare\n",
      "Pclass     1.000000 -0.369226   0.065997 -0.549500\n",
      "Age       -0.369226  1.000000  -0.301914  0.096067\n",
      "Relatives  0.065997 -0.301914   1.000000  0.217138\n",
      "Fare      -0.549500  0.096067   0.217138  1.000000\n"
     ]
    },
    {
     "output_type": "execute_result",
     "data": {
      "text/plain": [
       "<AxesSubplot:>"
      ]
     },
     "metadata": {},
     "execution_count": 37
    },
    {
     "output_type": "display_data",
     "data": {
      "image/png": "[encoded data removed]",
      "text/plain": [
       "<Figure size 432x288 with 2 Axes>"
      ]
     },
     "metadata": {}
    }
   ],
   "metadata": {}
  },
  {
   "cell_type": "markdown",
   "source": [
    "#### Overall conclusions:\n",
    "- Children survive more than adults and infants have a 100% survival rate. Determining children and infant ages is crucial\n",
    "- Females have roughly 75% chance of surviving and most of the other variables survivability could be because they are females\n",
    "- It seems like people who paid more (Pclass and Fare) are more likely to survive\n",
    "- Passengers with 1-3 relatives aboard have a higher survival probability (Even though this could be because these are Females)\n",
    "- The same goes for embarked\n",
    "- Name variable will come in handy to pinpoint age\n",
    "- The correlation between numerical variables are not high enough, therefore we don't assume that that there exist variables that are explaining one another"
   ],
   "metadata": {}
  },
  {
   "cell_type": "markdown",
   "source": [
    "## 3) Preprocessing\n",
    "---"
   ],
   "metadata": {}
  },
  {
   "cell_type": "markdown",
   "source": [
    "#### Dropping numerical and categorical variables that won't be used\n",
    "#### Replacing variable embarked NaNs\n",
    "#### Encoding variables\n",
    "#### Replacing Age NaNs with iterative imputer"
   ],
   "metadata": {}
  },
  {
   "cell_type": "code",
   "execution_count": 38,
   "source": [
    "# Creating target variable y (Survived)\r\n",
    "y_train = x_train[['Survived']]"
   ],
   "outputs": [],
   "metadata": {}
  },
  {
   "cell_type": "code",
   "execution_count": 39,
   "source": [
    "y_train.head()"
   ],
   "outputs": [
    {
     "output_type": "execute_result",
     "data": {
      "text/html": [
       "<div>\n",
       "<style scoped>\n",
       "    .dataframe tbody tr th:only-of-type {\n",
       "        vertical-align: middle;\n",
       "    }\n",
       "\n",
       "    .dataframe tbody tr th {\n",
       "        vertical-align: top;\n",
       "    }\n",
       "\n",
       "    .dataframe thead th {\n",
       "        text-align: right;\n",
       "    }\n",
       "</style>\n",
       "<table border=\"1\" class=\"dataframe\">\n",
       "  <thead>\n",
       "    <tr style=\"text-align: right;\">\n",
       "      <th></th>\n",
       "      <th>Survived</th>\n",
       "    </tr>\n",
       "  </thead>\n",
       "  <tbody>\n",
       "    <tr>\n",
       "      <th>0</th>\n",
       "      <td>0</td>\n",
       "    </tr>\n",
       "    <tr>\n",
       "      <th>1</th>\n",
       "      <td>1</td>\n",
       "    </tr>\n",
       "    <tr>\n",
       "      <th>2</th>\n",
       "      <td>1</td>\n",
       "    </tr>\n",
       "    <tr>\n",
       "      <th>3</th>\n",
       "      <td>1</td>\n",
       "    </tr>\n",
       "    <tr>\n",
       "      <th>4</th>\n",
       "      <td>0</td>\n",
       "    </tr>\n",
       "  </tbody>\n",
       "</table>\n",
       "</div>"
      ],
      "text/plain": [
       "   Survived\n",
       "0         0\n",
       "1         1\n",
       "2         1\n",
       "3         1\n",
       "4         0"
      ]
     },
     "metadata": {},
     "execution_count": 39
    }
   ],
   "metadata": {}
  },
  {
   "cell_type": "code",
   "execution_count": 40,
   "source": [
    "# Name will be dropped because it will be replaced with Name_Label\r\n",
    "x_train = x_train.drop(['Survived','PassengerId','SibSp','Parch','Name','Ticket','Cabin'],axis=1)\r\n",
    "x_test = x_test.drop(['PassengerId','SibSp','Parch','Name','Ticket','Cabin'],axis=1)"
   ],
   "outputs": [],
   "metadata": {}
  },
  {
   "cell_type": "code",
   "execution_count": 41,
   "source": [
    "get_info(x_test)"
   ],
   "outputs": [
    {
     "output_type": "stream",
     "name": "stdout",
     "text": [
      "These are the vairables in your DataFrame: \n",
      "----------------------------------------------------- \n",
      "\n",
      "Numerical variables in DataFrame: \n",
      "\n",
      "Pclass variable has 0 missing values.\n",
      "Age variable has 86 missing values.\n",
      "Fare variable has 0 missing values.\n",
      "Relatives variable has 0 missing values.\n",
      "\n",
      "\n",
      "Categorical variables in DataFrame: \n",
      "\n",
      "Sex variable has 2 unique values and 0 missing values.\n",
      "Embarked variable has 3 unique values and 0 missing values.\n",
      "Name_Label variable has 3 unique values and 0 missing values.\n"
     ]
    }
   ],
   "metadata": {}
  },
  {
   "cell_type": "markdown",
   "source": [
    "#### x_test only needs to be encoded and have age NaNs replaced"
   ],
   "metadata": {}
  },
  {
   "cell_type": "code",
   "execution_count": 42,
   "source": [
    "# From the earlier countplot, we see that the most common embarkation port is port S. We will replace Embarked NaNs with this\r\n",
    "x_train['Embarked']=x_train['Embarked'].replace(np.nan, 'S', regex=True)"
   ],
   "outputs": [],
   "metadata": {}
  },
  {
   "cell_type": "code",
   "execution_count": 43,
   "source": [
    "get_info(x_train)"
   ],
   "outputs": [
    {
     "output_type": "stream",
     "name": "stdout",
     "text": [
      "These are the vairables in your DataFrame: \n",
      "----------------------------------------------------- \n",
      "\n",
      "Numerical variables in DataFrame: \n",
      "\n",
      "Pclass variable has 0 missing values.\n",
      "Age variable has 177 missing values.\n",
      "Fare variable has 0 missing values.\n",
      "Relatives variable has 0 missing values.\n",
      "\n",
      "\n",
      "Categorical variables in DataFrame: \n",
      "\n",
      "Sex variable has 2 unique values and 0 missing values.\n",
      "Embarked variable has 3 unique values and 0 missing values.\n",
      "Name_Label variable has 3 unique values and 0 missing values.\n"
     ]
    }
   ],
   "metadata": {}
  },
  {
   "cell_type": "code",
   "execution_count": 44,
   "source": [
    "# Encoding x_train and x_test variables\r\n",
    "label_encoder = preprocessing.LabelEncoder()\r\n",
    "\r\n",
    "cols_to_encode = ['Sex','Embarked','Name_Label']\r\n",
    "\r\n",
    "for col in cols_to_encode:\r\n",
    "    x_train[col]=label_encoder.fit_transform(x_train[col])\r\n",
    "    x_test[col]=label_encoder.transform(x_test[col])\r\n",
    "    print(label_encoder.classes_)"
   ],
   "outputs": [
    {
     "output_type": "stream",
     "name": "stdout",
     "text": [
      "['female' 'male']\n",
      "['C' 'Q' 'S']\n",
      "['Adult' 'Child' 'Other']\n"
     ]
    }
   ],
   "metadata": {}
  },
  {
   "cell_type": "code",
   "execution_count": 45,
   "source": [
    "x_train.head()"
   ],
   "outputs": [
    {
     "output_type": "execute_result",
     "data": {
      "text/html": [
       "<div>\n",
       "<style scoped>\n",
       "    .dataframe tbody tr th:only-of-type {\n",
       "        vertical-align: middle;\n",
       "    }\n",
       "\n",
       "    .dataframe tbody tr th {\n",
       "        vertical-align: top;\n",
       "    }\n",
       "\n",
       "    .dataframe thead th {\n",
       "        text-align: right;\n",
       "    }\n",
       "</style>\n",
       "<table border=\"1\" class=\"dataframe\">\n",
       "  <thead>\n",
       "    <tr style=\"text-align: right;\">\n",
       "      <th></th>\n",
       "      <th>Pclass</th>\n",
       "      <th>Sex</th>\n",
       "      <th>Age</th>\n",
       "      <th>Fare</th>\n",
       "      <th>Embarked</th>\n",
       "      <th>Relatives</th>\n",
       "      <th>Name_Label</th>\n",
       "    </tr>\n",
       "  </thead>\n",
       "  <tbody>\n",
       "    <tr>\n",
       "      <th>0</th>\n",
       "      <td>3</td>\n",
       "      <td>1</td>\n",
       "      <td>22.0</td>\n",
       "      <td>7.2500</td>\n",
       "      <td>2</td>\n",
       "      <td>1</td>\n",
       "      <td>0</td>\n",
       "    </tr>\n",
       "    <tr>\n",
       "      <th>1</th>\n",
       "      <td>1</td>\n",
       "      <td>0</td>\n",
       "      <td>38.0</td>\n",
       "      <td>71.2833</td>\n",
       "      <td>0</td>\n",
       "      <td>1</td>\n",
       "      <td>0</td>\n",
       "    </tr>\n",
       "    <tr>\n",
       "      <th>2</th>\n",
       "      <td>3</td>\n",
       "      <td>0</td>\n",
       "      <td>26.0</td>\n",
       "      <td>7.9250</td>\n",
       "      <td>2</td>\n",
       "      <td>0</td>\n",
       "      <td>2</td>\n",
       "    </tr>\n",
       "    <tr>\n",
       "      <th>3</th>\n",
       "      <td>1</td>\n",
       "      <td>0</td>\n",
       "      <td>35.0</td>\n",
       "      <td>53.1000</td>\n",
       "      <td>2</td>\n",
       "      <td>1</td>\n",
       "      <td>0</td>\n",
       "    </tr>\n",
       "    <tr>\n",
       "      <th>4</th>\n",
       "      <td>3</td>\n",
       "      <td>1</td>\n",
       "      <td>35.0</td>\n",
       "      <td>8.0500</td>\n",
       "      <td>2</td>\n",
       "      <td>0</td>\n",
       "      <td>0</td>\n",
       "    </tr>\n",
       "  </tbody>\n",
       "</table>\n",
       "</div>"
      ],
      "text/plain": [
       "   Pclass  Sex   Age     Fare  Embarked  Relatives  Name_Label\n",
       "0       3    1  22.0   7.2500         2          1           0\n",
       "1       1    0  38.0  71.2833         0          1           0\n",
       "2       3    0  26.0   7.9250         2          0           2\n",
       "3       1    0  35.0  53.1000         2          1           0\n",
       "4       3    1  35.0   8.0500         2          0           0"
      ]
     },
     "metadata": {},
     "execution_count": 45
    }
   ],
   "metadata": {}
  },
  {
   "cell_type": "code",
   "execution_count": 46,
   "source": [
    "x_test.head()"
   ],
   "outputs": [
    {
     "output_type": "execute_result",
     "data": {
      "text/html": [
       "<div>\n",
       "<style scoped>\n",
       "    .dataframe tbody tr th:only-of-type {\n",
       "        vertical-align: middle;\n",
       "    }\n",
       "\n",
       "    .dataframe tbody tr th {\n",
       "        vertical-align: top;\n",
       "    }\n",
       "\n",
       "    .dataframe thead th {\n",
       "        text-align: right;\n",
       "    }\n",
       "</style>\n",
       "<table border=\"1\" class=\"dataframe\">\n",
       "  <thead>\n",
       "    <tr style=\"text-align: right;\">\n",
       "      <th></th>\n",
       "      <th>Pclass</th>\n",
       "      <th>Sex</th>\n",
       "      <th>Age</th>\n",
       "      <th>Fare</th>\n",
       "      <th>Embarked</th>\n",
       "      <th>Relatives</th>\n",
       "      <th>Name_Label</th>\n",
       "    </tr>\n",
       "  </thead>\n",
       "  <tbody>\n",
       "    <tr>\n",
       "      <th>0</th>\n",
       "      <td>3</td>\n",
       "      <td>1</td>\n",
       "      <td>34.5</td>\n",
       "      <td>7.8292</td>\n",
       "      <td>1</td>\n",
       "      <td>0</td>\n",
       "      <td>0</td>\n",
       "    </tr>\n",
       "    <tr>\n",
       "      <th>1</th>\n",
       "      <td>3</td>\n",
       "      <td>0</td>\n",
       "      <td>47.0</td>\n",
       "      <td>7.0000</td>\n",
       "      <td>2</td>\n",
       "      <td>1</td>\n",
       "      <td>0</td>\n",
       "    </tr>\n",
       "    <tr>\n",
       "      <th>2</th>\n",
       "      <td>2</td>\n",
       "      <td>1</td>\n",
       "      <td>62.0</td>\n",
       "      <td>9.6875</td>\n",
       "      <td>1</td>\n",
       "      <td>0</td>\n",
       "      <td>0</td>\n",
       "    </tr>\n",
       "    <tr>\n",
       "      <th>3</th>\n",
       "      <td>3</td>\n",
       "      <td>1</td>\n",
       "      <td>27.0</td>\n",
       "      <td>8.6625</td>\n",
       "      <td>2</td>\n",
       "      <td>0</td>\n",
       "      <td>0</td>\n",
       "    </tr>\n",
       "    <tr>\n",
       "      <th>4</th>\n",
       "      <td>3</td>\n",
       "      <td>0</td>\n",
       "      <td>22.0</td>\n",
       "      <td>12.2875</td>\n",
       "      <td>2</td>\n",
       "      <td>2</td>\n",
       "      <td>0</td>\n",
       "    </tr>\n",
       "  </tbody>\n",
       "</table>\n",
       "</div>"
      ],
      "text/plain": [
       "   Pclass  Sex   Age     Fare  Embarked  Relatives  Name_Label\n",
       "0       3    1  34.5   7.8292         1          0           0\n",
       "1       3    0  47.0   7.0000         2          1           0\n",
       "2       2    1  62.0   9.6875         1          0           0\n",
       "3       3    1  27.0   8.6625         2          0           0\n",
       "4       3    0  22.0  12.2875         2          2           0"
      ]
     },
     "metadata": {},
     "execution_count": 46
    }
   ],
   "metadata": {}
  },
  {
   "cell_type": "markdown",
   "source": [
    "#### Now that this is ready, we can impute age with simple imputer"
   ],
   "metadata": {}
  },
  {
   "cell_type": "code",
   "execution_count": 47,
   "source": [
    "#imputer = SimpleImputer(missing_values=np.nan, strategy = 'mean')\r\n",
    "imputer = IterativeImputer(missing_values=np.nan, random_state=0)\r\n",
    "x_train_final = pd.DataFrame(imputer.fit_transform(x_train))\r\n",
    "x_train_final.columns = x_train.columns\r\n",
    "x_train_final.head()"
   ],
   "outputs": [
    {
     "output_type": "execute_result",
     "data": {
      "text/html": [
       "<div>\n",
       "<style scoped>\n",
       "    .dataframe tbody tr th:only-of-type {\n",
       "        vertical-align: middle;\n",
       "    }\n",
       "\n",
       "    .dataframe tbody tr th {\n",
       "        vertical-align: top;\n",
       "    }\n",
       "\n",
       "    .dataframe thead th {\n",
       "        text-align: right;\n",
       "    }\n",
       "</style>\n",
       "<table border=\"1\" class=\"dataframe\">\n",
       "  <thead>\n",
       "    <tr style=\"text-align: right;\">\n",
       "      <th></th>\n",
       "      <th>Pclass</th>\n",
       "      <th>Sex</th>\n",
       "      <th>Age</th>\n",
       "      <th>Fare</th>\n",
       "      <th>Embarked</th>\n",
       "      <th>Relatives</th>\n",
       "      <th>Name_Label</th>\n",
       "    </tr>\n",
       "  </thead>\n",
       "  <tbody>\n",
       "    <tr>\n",
       "      <th>0</th>\n",
       "      <td>3.0</td>\n",
       "      <td>1.0</td>\n",
       "      <td>22.0</td>\n",
       "      <td>7.2500</td>\n",
       "      <td>2.0</td>\n",
       "      <td>1.0</td>\n",
       "      <td>0.0</td>\n",
       "    </tr>\n",
       "    <tr>\n",
       "      <th>1</th>\n",
       "      <td>1.0</td>\n",
       "      <td>0.0</td>\n",
       "      <td>38.0</td>\n",
       "      <td>71.2833</td>\n",
       "      <td>0.0</td>\n",
       "      <td>1.0</td>\n",
       "      <td>0.0</td>\n",
       "    </tr>\n",
       "    <tr>\n",
       "      <th>2</th>\n",
       "      <td>3.0</td>\n",
       "      <td>0.0</td>\n",
       "      <td>26.0</td>\n",
       "      <td>7.9250</td>\n",
       "      <td>2.0</td>\n",
       "      <td>0.0</td>\n",
       "      <td>2.0</td>\n",
       "    </tr>\n",
       "    <tr>\n",
       "      <th>3</th>\n",
       "      <td>1.0</td>\n",
       "      <td>0.0</td>\n",
       "      <td>35.0</td>\n",
       "      <td>53.1000</td>\n",
       "      <td>2.0</td>\n",
       "      <td>1.0</td>\n",
       "      <td>0.0</td>\n",
       "    </tr>\n",
       "    <tr>\n",
       "      <th>4</th>\n",
       "      <td>3.0</td>\n",
       "      <td>1.0</td>\n",
       "      <td>35.0</td>\n",
       "      <td>8.0500</td>\n",
       "      <td>2.0</td>\n",
       "      <td>0.0</td>\n",
       "      <td>0.0</td>\n",
       "    </tr>\n",
       "  </tbody>\n",
       "</table>\n",
       "</div>"
      ],
      "text/plain": [
       "   Pclass  Sex   Age     Fare  Embarked  Relatives  Name_Label\n",
       "0     3.0  1.0  22.0   7.2500       2.0        1.0         0.0\n",
       "1     1.0  0.0  38.0  71.2833       0.0        1.0         0.0\n",
       "2     3.0  0.0  26.0   7.9250       2.0        0.0         2.0\n",
       "3     1.0  0.0  35.0  53.1000       2.0        1.0         0.0\n",
       "4     3.0  1.0  35.0   8.0500       2.0        0.0         0.0"
      ]
     },
     "metadata": {},
     "execution_count": 47
    }
   ],
   "metadata": {}
  },
  {
   "cell_type": "code",
   "execution_count": 48,
   "source": [
    "x_test_final = pd.DataFrame(imputer.transform(x_test))\r\n",
    "x_test_final.columns = x_test.columns\r\n",
    "x_test_final.head()"
   ],
   "outputs": [
    {
     "output_type": "execute_result",
     "data": {
      "text/html": [
       "<div>\n",
       "<style scoped>\n",
       "    .dataframe tbody tr th:only-of-type {\n",
       "        vertical-align: middle;\n",
       "    }\n",
       "\n",
       "    .dataframe tbody tr th {\n",
       "        vertical-align: top;\n",
       "    }\n",
       "\n",
       "    .dataframe thead th {\n",
       "        text-align: right;\n",
       "    }\n",
       "</style>\n",
       "<table border=\"1\" class=\"dataframe\">\n",
       "  <thead>\n",
       "    <tr style=\"text-align: right;\">\n",
       "      <th></th>\n",
       "      <th>Pclass</th>\n",
       "      <th>Sex</th>\n",
       "      <th>Age</th>\n",
       "      <th>Fare</th>\n",
       "      <th>Embarked</th>\n",
       "      <th>Relatives</th>\n",
       "      <th>Name_Label</th>\n",
       "    </tr>\n",
       "  </thead>\n",
       "  <tbody>\n",
       "    <tr>\n",
       "      <th>0</th>\n",
       "      <td>3.0</td>\n",
       "      <td>1.0</td>\n",
       "      <td>34.5</td>\n",
       "      <td>7.8292</td>\n",
       "      <td>1.0</td>\n",
       "      <td>0.0</td>\n",
       "      <td>0.0</td>\n",
       "    </tr>\n",
       "    <tr>\n",
       "      <th>1</th>\n",
       "      <td>3.0</td>\n",
       "      <td>0.0</td>\n",
       "      <td>47.0</td>\n",
       "      <td>7.0000</td>\n",
       "      <td>2.0</td>\n",
       "      <td>1.0</td>\n",
       "      <td>0.0</td>\n",
       "    </tr>\n",
       "    <tr>\n",
       "      <th>2</th>\n",
       "      <td>2.0</td>\n",
       "      <td>1.0</td>\n",
       "      <td>62.0</td>\n",
       "      <td>9.6875</td>\n",
       "      <td>1.0</td>\n",
       "      <td>0.0</td>\n",
       "      <td>0.0</td>\n",
       "    </tr>\n",
       "    <tr>\n",
       "      <th>3</th>\n",
       "      <td>3.0</td>\n",
       "      <td>1.0</td>\n",
       "      <td>27.0</td>\n",
       "      <td>8.6625</td>\n",
       "      <td>2.0</td>\n",
       "      <td>0.0</td>\n",
       "      <td>0.0</td>\n",
       "    </tr>\n",
       "    <tr>\n",
       "      <th>4</th>\n",
       "      <td>3.0</td>\n",
       "      <td>0.0</td>\n",
       "      <td>22.0</td>\n",
       "      <td>12.2875</td>\n",
       "      <td>2.0</td>\n",
       "      <td>2.0</td>\n",
       "      <td>0.0</td>\n",
       "    </tr>\n",
       "  </tbody>\n",
       "</table>\n",
       "</div>"
      ],
      "text/plain": [
       "   Pclass  Sex   Age     Fare  Embarked  Relatives  Name_Label\n",
       "0     3.0  1.0  34.5   7.8292       1.0        0.0         0.0\n",
       "1     3.0  0.0  47.0   7.0000       2.0        1.0         0.0\n",
       "2     2.0  1.0  62.0   9.6875       1.0        0.0         0.0\n",
       "3     3.0  1.0  27.0   8.6625       2.0        0.0         0.0\n",
       "4     3.0  0.0  22.0  12.2875       2.0        2.0         0.0"
      ]
     },
     "metadata": {},
     "execution_count": 48
    }
   ],
   "metadata": {}
  },
  {
   "cell_type": "code",
   "execution_count": 49,
   "source": [
    "#x_train_final['Age'].values"
   ],
   "outputs": [],
   "metadata": {}
  },
  {
   "cell_type": "markdown",
   "source": [
    "#### There seem to be some negative values for age, these will be simply turned into positive values"
   ],
   "metadata": {}
  },
  {
   "cell_type": "code",
   "execution_count": 50,
   "source": [
    "def to_positive(row):\r\n",
    "    return abs(row['Age'])"
   ],
   "outputs": [],
   "metadata": {}
  },
  {
   "cell_type": "code",
   "execution_count": 51,
   "source": [
    "x_train_final['Age'] = x_train_final.apply(lambda row: to_positive(row), axis=1)\r\n",
    "x_test_final['Age'] = x_test_final.apply(lambda row: to_positive(row), axis=1)"
   ],
   "outputs": [],
   "metadata": {}
  },
  {
   "cell_type": "markdown",
   "source": [
    "## 4) Modeling Phase\n",
    "---"
   ],
   "metadata": {}
  },
  {
   "cell_type": "markdown",
   "source": [
    "#### Logistic Regresison - Kaggle score: 76.32%"
   ],
   "metadata": {}
  },
  {
   "cell_type": "code",
   "execution_count": 52,
   "source": [
    "log_classifier = LogisticRegression(random_state = 0, max_iter=1000)\r\n",
    "log_classifier.fit(x_train_final,y_train.values.ravel())\r\n",
    "y_pred_log_final = log_classifier.predict(x_test_final)"
   ],
   "outputs": [],
   "metadata": {}
  },
  {
   "cell_type": "code",
   "execution_count": 55,
   "source": [
    "y_pred_log_final = pd.DataFrame((y_pred_log_final.reshape(-1,1)))"
   ],
   "outputs": [],
   "metadata": {}
  },
  {
   "cell_type": "code",
   "execution_count": 56,
   "source": [
    "# Concatenating the passengers and predictions\r\n",
    "log_results = pd.concat([x_test_copy[['PassengerId']],y_pred_log_final],axis=1)\r\n",
    "log_results.head()"
   ],
   "outputs": [
    {
     "output_type": "execute_result",
     "data": {
      "text/html": [
       "<div>\n",
       "<style scoped>\n",
       "    .dataframe tbody tr th:only-of-type {\n",
       "        vertical-align: middle;\n",
       "    }\n",
       "\n",
       "    .dataframe tbody tr th {\n",
       "        vertical-align: top;\n",
       "    }\n",
       "\n",
       "    .dataframe thead th {\n",
       "        text-align: right;\n",
       "    }\n",
       "</style>\n",
       "<table border=\"1\" class=\"dataframe\">\n",
       "  <thead>\n",
       "    <tr style=\"text-align: right;\">\n",
       "      <th></th>\n",
       "      <th>PassengerId</th>\n",
       "      <th>0</th>\n",
       "    </tr>\n",
       "  </thead>\n",
       "  <tbody>\n",
       "    <tr>\n",
       "      <th>0</th>\n",
       "      <td>892</td>\n",
       "      <td>0</td>\n",
       "    </tr>\n",
       "    <tr>\n",
       "      <th>1</th>\n",
       "      <td>893</td>\n",
       "      <td>0</td>\n",
       "    </tr>\n",
       "    <tr>\n",
       "      <th>2</th>\n",
       "      <td>894</td>\n",
       "      <td>0</td>\n",
       "    </tr>\n",
       "    <tr>\n",
       "      <th>3</th>\n",
       "      <td>895</td>\n",
       "      <td>0</td>\n",
       "    </tr>\n",
       "    <tr>\n",
       "      <th>4</th>\n",
       "      <td>896</td>\n",
       "      <td>1</td>\n",
       "    </tr>\n",
       "  </tbody>\n",
       "</table>\n",
       "</div>"
      ],
      "text/plain": [
       "   PassengerId  0\n",
       "0          892  0\n",
       "1          893  0\n",
       "2          894  0\n",
       "3          895  0\n",
       "4          896  1"
      ]
     },
     "metadata": {},
     "execution_count": 56
    }
   ],
   "metadata": {}
  },
  {
   "cell_type": "code",
   "execution_count": 57,
   "source": [
    "#log_results.to_csv('Multiple_Logistic_Regression.csv')"
   ],
   "outputs": [],
   "metadata": {}
  },
  {
   "cell_type": "markdown",
   "source": [
    "#### K-Nearest Neighbors - Kaggle score: 64.1%"
   ],
   "metadata": {}
  },
  {
   "cell_type": "code",
   "execution_count": 58,
   "source": [
    "knn_classifier = KNeighborsClassifier(n_neighbors = 5, metric = 'minkowski', p = 2)\r\n",
    "knn_classifier.fit(x_train_final,y_train.values.ravel())\r\n",
    "y_pred_knn_final = knn_classifier.predict(x_test_final)"
   ],
   "outputs": [],
   "metadata": {}
  },
  {
   "cell_type": "code",
   "execution_count": 59,
   "source": [
    "y_pred_knn_final = pd.DataFrame((y_pred_knn_final.reshape(-1,1)))"
   ],
   "outputs": [],
   "metadata": {}
  },
  {
   "cell_type": "code",
   "execution_count": 60,
   "source": [
    "knn_results = pd.concat([x_test_copy[['PassengerId']],y_pred_knn_final],axis=1)"
   ],
   "outputs": [],
   "metadata": {}
  },
  {
   "cell_type": "code",
   "execution_count": 61,
   "source": [
    "#knn_results.to_csv('K-Nearest Neighbors.csv')"
   ],
   "outputs": [],
   "metadata": {}
  },
  {
   "cell_type": "markdown",
   "source": [
    "#### Support Vector Machine - Kaggle score: 76.6%"
   ],
   "metadata": {}
  },
  {
   "cell_type": "code",
   "execution_count": 62,
   "source": [
    "svm_classifier = SVC(kernel = 'linear', random_state = 0)\r\n",
    "svm_classifier.fit(x_train_final,y_train.values.ravel())\r\n",
    "y_pred_svm = svm_classifier.predict(x_test_final)"
   ],
   "outputs": [],
   "metadata": {}
  },
  {
   "cell_type": "code",
   "execution_count": 63,
   "source": [
    "y_pred_svm = pd.DataFrame((y_pred_svm.reshape(-1,1)))"
   ],
   "outputs": [],
   "metadata": {}
  },
  {
   "cell_type": "code",
   "execution_count": 64,
   "source": [
    "svm_results = pd.concat([x_test_copy[['PassengerId']],y_pred_svm],axis=1)"
   ],
   "outputs": [],
   "metadata": {}
  },
  {
   "cell_type": "code",
   "execution_count": 65,
   "source": [
    "#svm_results.to_csv('Support_Vector_Machine.csv')"
   ],
   "outputs": [],
   "metadata": {}
  },
  {
   "cell_type": "markdown",
   "source": [
    "#### Kernel SVM - Kaggle score: 67%"
   ],
   "metadata": {}
  },
  {
   "cell_type": "code",
   "execution_count": 66,
   "source": [
    "ksvm_classifier = SVC(kernel = 'rbf', random_state = 0)\r\n",
    "ksvm_classifier.fit(x_train_final,y_train.values.ravel())\r\n",
    "y_pred_ksvm = ksvm_classifier.predict(x_test_final)"
   ],
   "outputs": [],
   "metadata": {}
  },
  {
   "cell_type": "code",
   "execution_count": 67,
   "source": [
    "y_pred_ksvm = pd.DataFrame((y_pred_ksvm.reshape(-1,1)))"
   ],
   "outputs": [],
   "metadata": {}
  },
  {
   "cell_type": "code",
   "execution_count": 68,
   "source": [
    "ksvm_results = pd.concat([x_test_copy[['PassengerId']],y_pred_ksvm],axis=1)"
   ],
   "outputs": [],
   "metadata": {}
  },
  {
   "cell_type": "code",
   "execution_count": 69,
   "source": [
    "#ksvm_results.to_csv('Kernel Support Vector Machine.csv')"
   ],
   "outputs": [],
   "metadata": {}
  },
  {
   "cell_type": "markdown",
   "source": [
    "#### Naive Bayes - Kaggle score: 75%"
   ],
   "metadata": {}
  },
  {
   "cell_type": "code",
   "execution_count": 70,
   "source": [
    "nb_classifier = GaussianNB()\r\n",
    "nb_classifier.fit(x_train_final,y_train.values.ravel())\r\n",
    "y_pred_nb = nb_classifier.predict(x_test_final)"
   ],
   "outputs": [],
   "metadata": {}
  },
  {
   "cell_type": "code",
   "execution_count": 71,
   "source": [
    "y_pred_nb = pd.DataFrame((y_pred_nb.reshape(-1,1)))"
   ],
   "outputs": [],
   "metadata": {}
  },
  {
   "cell_type": "code",
   "execution_count": 72,
   "source": [
    "nb_results = pd.concat([x_test_copy[['PassengerId']],y_pred_nb],axis=1)"
   ],
   "outputs": [],
   "metadata": {}
  },
  {
   "cell_type": "code",
   "execution_count": 73,
   "source": [
    "#nb_results.to_csv('Naive Bayes.csv')"
   ],
   "outputs": [],
   "metadata": {}
  },
  {
   "cell_type": "markdown",
   "source": [
    "#### Random Forest Classification - Kaggle score: 76%"
   ],
   "metadata": {}
  },
  {
   "cell_type": "code",
   "execution_count": 74,
   "source": [
    "rf_classifier = RandomForestClassifier(n_estimators = 500, criterion = 'entropy', random_state = 0)\r\n",
    "rf_classifier.fit(x_train_final,y_train.values.ravel())\r\n",
    "y_pred_rf = rf_classifier.predict(x_test_final)"
   ],
   "outputs": [],
   "metadata": {}
  },
  {
   "cell_type": "code",
   "execution_count": 75,
   "source": [
    "y_pred_rf = pd.DataFrame((y_pred_rf.reshape(-1,1)))"
   ],
   "outputs": [],
   "metadata": {}
  },
  {
   "cell_type": "code",
   "execution_count": 76,
   "source": [
    "rf_results = pd.concat([x_test_copy[['PassengerId']],y_pred_rf],axis=1)"
   ],
   "outputs": [],
   "metadata": {}
  },
  {
   "cell_type": "code",
   "execution_count": 77,
   "source": [
    "#rf_results.to_csv('Random Forest.csv')"
   ],
   "outputs": [],
   "metadata": {}
  },
  {
   "cell_type": "markdown",
   "source": [
    "## Conclusion:\r\n",
    "- The overall best models were RF, NB, SVM, and Logistic Regression\r\n",
    "- I tried changing iterative imputer with simple imputer (simply filling in ages with the mean) and the difference wasn't much\r\n",
    "- I still need to learn about techniques for further feature engineering and variable importance in the model\r\n",
    "- Boosting the models for better performance might bring a better accuracy\r\n",
    "- A more precise age NaN replacement method might have a better outcome on the models\r\n",
    "- This is currently my 5th try at the titanic survivors model from Kaggle and there are a lot of things that I need to improve at. Feel free to give me feedback as I would love to learn how I can improve my variable observation, preprocessing, modeling, and coding skills"
   ],
   "metadata": {}
  },
  {
   "cell_type": "markdown",
   "source": [
    "## References used for this proyect\r\n",
    "#### Thank you for letting me learn so much about your models\r\n",
    "- https://www.linkedin.com/pulse/what-i-learned-analyzing-famous-titanic-dateset-murilo-gustineli\r\n",
    "- https://www.kaggle.com/kenjee/titanic-project-example\r\n",
    "- https://github.com/murilogustineli/Titanic-Classification/blob/6a3d12691aa17bf7bdf6a2e68a8f4d15a23fa53e/Titanic%20Project.ipynb"
   ],
   "metadata": {}
  },
  {
   "cell_type": "markdown",
   "source": [
    "#### Feel free to leave any feedback. You can contact me at sgarpbm98@gmail.com. I'd be very happy to hear from you."
   ],
   "metadata": {}
  }
 ],
 "metadata": {
  "kernelspec": {
   "name": "python3",
   "display_name": "Python 3.9.5 64-bit"
  },
  "language_info": {
   "codemirror_mode": {
    "name": "ipython",
    "version": 3
   },
   "file_extension": ".py",
   "mimetype": "text/x-python",
   "name": "python",
   "nbconvert_exporter": "python",
   "pygments_lexer": "ipython3",
   "version": "3.9.5"
  },
  "interpreter": {
   "hash": "e7569a15529fdc1b1c42469f30affc08eb6a35198f139c12d15ddfa133a45a66"
  }
 },
 "nbformat": 4,
 "nbformat_minor": 5
}